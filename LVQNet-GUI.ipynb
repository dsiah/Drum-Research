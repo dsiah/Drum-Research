{
 "cells": [
  {
   "cell_type": "code",
   "execution_count": 7,
   "metadata": {
    "collapsed": false
   },
   "outputs": [],
   "source": [
    "import Tkinter, tkFileDialog, os\n",
    "from Libs import LVQLib\n",
    "from Libs import ExpWriter as ew"
   ]
  },
  {
   "cell_type": "code",
   "execution_count": 8,
   "metadata": {
    "collapsed": true
   },
   "outputs": [],
   "source": [
    "class LVQUI(Tkinter.Tk):    \n",
    "    \"\"\"\n",
    "    Views:\n",
    "\n",
    "        1) Load in samples\n",
    "        2) Label Classifications -- show the network\n",
    "        3) Training & save screen\n",
    "\n",
    "    \"\"\"\n",
    "    \n",
    "    def __init__(self, parent):\n",
    "        self.viewdex = 0        # current view index\n",
    "        self.parent  = parent\n",
    "        self.state   = { 'savePath': None }\n",
    "        self.views   = ['Load Samples', 'Label Neurons', 'Train Network']\n",
    "        self.fpaths  = []\n",
    "        \n",
    "        Tkinter.Tk.__init__(self, parent)\n",
    "        self.initialize()\n",
    "        \n",
    "    def initialize(self):\n",
    "        self.grid()\n",
    "        \n",
    "        self.grid_columnconfigure(0, weight=2)\n",
    "        self.resizable(False, True)\n",
    "        \n",
    "        # Labels\n",
    "        self.screen_title = Tkinter.Label(self, text=self.views[self.viewdex], anchor='center')\n",
    "        self.files_label  = Tkinter.Label(self, text=\"Files Imported:\") \n",
    "        \n",
    "        # Buttons\n",
    "        self.forwardBtn   = Tkinter.Button(self, text=\" Next  >>>\", command=self.nextView,\n",
    "                                           width=10)\n",
    "        self.backwardBtn  = Tkinter.Button(self, text=\"<<<  Back \", command=self.prevView,\n",
    "                                           width=10)\n",
    "        \n",
    "        # Grid Positioning\n",
    "        self.screen_title.grid(column=4, row=1, columnspan=8, sticky='W',  padx=50)\n",
    "        self.files_label.grid(column=0,  row=2, columnspan=2, sticky='N', pady=100)\n",
    "        self.forwardBtn.grid(column=16,  row=1, columnspan=4, sticky='E')\n",
    "        self.backwardBtn.grid(column=0,  row=1, columnspan=4, sticky='W')\n",
    "        \n",
    "        \n",
    "        self.update()\n",
    "        self.geometry(self.geometry()) # comment out for auto resizing.\n",
    "            \n",
    "    def getFileDialogue(self):\n",
    "        filey = tkFileDialog.askopenfile(parent=self, mode='r', \n",
    "                                         title=\"Audio Sample\")\n",
    "        if filey != None:\n",
    "            data = filey.read()\n",
    "            self.state['filepath'] = filey.name\n",
    "            filey.close()\n",
    "    \n",
    "    def nextView(self):\n",
    "        if (self.viewdex < len(self.views)):\n",
    "            self.viewdex += 1\n",
    "            \n",
    "        print self.viewdex\n",
    "        self.update()\n",
    "        \n",
    "    def prevView(self):\n",
    "        if (self.viewdex > 0):\n",
    "            self.viewdex -= 1\n",
    "        \n",
    "        print self.viewdex\n",
    "        self.update()\n",
    "        \n",
    "    def loadViewInit(self):\n",
    "        \"\"\"\n",
    "        Load the view (1): \n",
    "            Load samples for training\n",
    "            (and vector initialization of the neurons)\n",
    "        \"\"\"\n",
    "        pass\n",
    "    \n",
    "    def labelViewInit(self):\n",
    "        \"\"\"\n",
    "        Load the view (2): \n",
    "            Label neuron classifiers\n",
    "        \"\"\"\n",
    "        pass\n",
    "    \n",
    "    def trainViewInit(self):\n",
    "        \"\"\"\n",
    "        Load the view (3):\n",
    "            Training Parameters & Output / Progress\n",
    "        \"\"\"\n",
    "        pass"
   ]
  },
  {
   "cell_type": "code",
   "execution_count": 10,
   "metadata": {
    "collapsed": false
   },
   "outputs": [],
   "source": [
    "if __name__ == '__main__':\n",
    "    gui = LVQUI(None)\n",
    "    gui.title('LVQ Drum Training')\n",
    "    gui.mainloop()\n",
    "    \n",
    "    # Testing writing expressions\n",
    "    w = ew.SEWriter('network', './')\n",
    "    w.finish()"
   ]
  },
  {
   "cell_type": "code",
   "execution_count": null,
   "metadata": {
    "collapsed": true
   },
   "outputs": [],
   "source": []
  }
 ],
 "metadata": {
  "kernelspec": {
   "display_name": "Python 2",
   "language": "python",
   "name": "python2"
  },
  "language_info": {
   "codemirror_mode": {
    "name": "ipython",
    "version": 2
   },
   "file_extension": ".py",
   "mimetype": "text/x-python",
   "name": "python",
   "nbconvert_exporter": "python",
   "pygments_lexer": "ipython2",
   "version": "2.7.6"
  }
 },
 "nbformat": 4,
 "nbformat_minor": 0
}
