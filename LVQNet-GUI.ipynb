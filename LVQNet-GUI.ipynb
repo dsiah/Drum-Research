{
 "cells": [
  {
   "cell_type": "code",
   "execution_count": 1,
   "metadata": {
    "collapsed": false
   },
   "outputs": [],
   "source": [
    "import Tkinter, tkFileDialog, os\n",
    "from Libs import LVQLib\n",
    "from Libs import ExpWriter as ew"
   ]
  },
  {
   "cell_type": "code",
   "execution_count": 23,
   "metadata": {
    "collapsed": false
   },
   "outputs": [],
   "source": [
    "class LVQUI(Tkinter.Tk):    \n",
    "    \"\"\"\n",
    "    Views:\n",
    "        1) Load in samples\n",
    "        2) Label Classifications -- show the network\n",
    "        3) Training & save screen\n",
    "\n",
    "    \"\"\"\n",
    "    def __init__(self, parent):\n",
    "        self.viewdex = 0        # current view index\n",
    "        self.parent  = parent\n",
    "        self.state   = { 'savePath': None }\n",
    "        self.views   = [ self.loadViewInit, self.labelViewInit, self.trainViewInit ]\n",
    "        self.fpaths  = []\n",
    "        self.curView = []\n",
    "        \n",
    "        Tkinter.Tk.__init__(self, parent)\n",
    "        self.initialize()\n",
    "        \n",
    "    def initialize(self):\n",
    "        self.grid()\n",
    "        self.grid_columnconfigure(0, weight=2)\n",
    "        self.resizable(False, True)\n",
    "        \n",
    "        self.screen_title = Tkinter.Label(self, text=self.views[self.viewdex], anchor='center')\n",
    "        self.forwardBtn   = Tkinter.Button(self, text=\" Next  >>>\", command=self.nextView,\n",
    "                                           width=10)\n",
    "        self.backwardBtn  = Tkinter.Button(self, text=\"<<<  Back \", command=self.prevView,\n",
    "                                           width=10)\n",
    "        # Grid Positioning\n",
    "        self.screen_title.grid(column=4, row=1, columnspan=8, sticky='W',  padx=50)\n",
    "        self.forwardBtn.grid(column=16,  row=1, columnspan=4, sticky='E',  padx=40)\n",
    "        self.backwardBtn.grid(column=0,  row=1, columnspan=4, sticky='W',  padx=40)\n",
    "        \n",
    "        self.loadViewInit()\n",
    "        \n",
    "        self.update()\n",
    "        self.geometry(self.geometry()) # comment out for auto resizing.\n",
    "            \n",
    "    def getFileDialogue(self):\n",
    "        \"\"\"\n",
    "        Open a file chooser and extract the path \n",
    "        (add to filepaths for input vectors).\n",
    "        \"\"\"\n",
    "        filey = tkFileDialog.askopenfile(parent=self, mode='r', \n",
    "                                         title=\"Audio Sample\")\n",
    "        if (filey != None):\n",
    "            data = filey.read()\n",
    "            self.addFile(filey.name)\n",
    "            filey.close()\n",
    "    \n",
    "        self.clearView()\n",
    "        \n",
    "    def nextView(self):\n",
    "        if (self.viewdex < len(self.views) - 1):\n",
    "            self.clearView()\n",
    "            self.viewdex += 1\n",
    "            self.views[self.viewdex]()\n",
    "            self.screen_title['text'] = self.views[self.viewdex]\n",
    "            \n",
    "        self.update()\n",
    "        \n",
    "    def prevView(self):\n",
    "        if (self.viewdex > 0):\n",
    "            self.clearView()\n",
    "            self.viewdex -= 1\n",
    "            self.views[self.viewdex]()\n",
    "            self.screen_title['text'] = self.views[self.viewdex]\n",
    "            \n",
    "\n",
    "        self.update()\n",
    "    \n",
    "    def clearView(self):\n",
    "        \"\"\"\n",
    "        Clear the canvas from all non-permanent elements\n",
    "        \"\"\"\n",
    "        for i in self.curView:\n",
    "            i.grid_forget()\n",
    "        self.update()\n",
    "        self.curView = []\n",
    "    \n",
    "    def loadViewInit(self):\n",
    "        \"\"\"\n",
    "        Load the view (1): \n",
    "            Load samples for training\n",
    "            (and vector initialization of the neurons)\n",
    "        \"\"\"\n",
    "        self.fileLabel = Tkinter.Label(self, text=\"Files Imported:\")\n",
    "        self.fileBtn   = Tkinter.Button(self, text=\"Add Vector\", command=self.getFileDialogue)\n",
    "        \n",
    "        self.curView = [ self.fileLabel, self.fileBtn ]\n",
    "        \n",
    "        self.curView[0].grid(column=0, row=2, columnspan=2, sticky='N', pady=20)\n",
    "        self.curView[1].grid(column=0, row=3, columnspan=2, sticky='N', pady=20)\n",
    "        \n",
    "        self.update()\n",
    "        \n",
    "\n",
    "    def labelViewInit(self):\n",
    "        \"\"\"\n",
    "        Load the view (2): \n",
    "            Label neuron classifiers\n",
    "        \"\"\"\n",
    "        print \"LABEL view\"\n",
    "    \n",
    "    def trainViewInit(self):\n",
    "        \"\"\"\n",
    "        Load the view (3):\n",
    "            Training Parameters & Output / Progress\n",
    "        \"\"\"\n",
    "        print \"TRAIN view\"\n",
    "    \n",
    "    def addFile(self, filepath):\n",
    "        self.fpaths.append(filepath)\n",
    "        \n",
    "    def setSavePath(self, filepath):\n",
    "        self.state['savePath'] = filepath"
   ]
  },
  {
   "cell_type": "code",
   "execution_count": 24,
   "metadata": {
    "collapsed": false
   },
   "outputs": [
    {
     "name": "stdout",
     "output_type": "stream",
     "text": [
      "LABEL view\n",
      "TRAIN view\n",
      "LABEL view\n",
      "LABEL view\n",
      "TRAIN view\n"
     ]
    }
   ],
   "source": [
    "if __name__ == '__main__':\n",
    "    gui = LVQUI(None)\n",
    "    gui.title('LVQ Drum Training')\n",
    "    gui.mainloop()"
   ]
  },
  {
   "cell_type": "code",
   "execution_count": null,
   "metadata": {
    "collapsed": true
   },
   "outputs": [],
   "source": []
  }
 ],
 "metadata": {
  "kernelspec": {
   "display_name": "Python 2",
   "language": "python",
   "name": "python2"
  },
  "language_info": {
   "codemirror_mode": {
    "name": "ipython",
    "version": 2
   },
   "file_extension": ".py",
   "mimetype": "text/x-python",
   "name": "python",
   "nbconvert_exporter": "python",
   "pygments_lexer": "ipython2",
   "version": "2.7.6"
  }
 },
 "nbformat": 4,
 "nbformat_minor": 0
}
