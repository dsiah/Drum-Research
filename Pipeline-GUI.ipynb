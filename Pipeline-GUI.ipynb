{
 "cells": [
  {
   "cell_type": "code",
   "execution_count": 1,
   "metadata": {
    "collapsed": true
   },
   "outputs": [],
   "source": [
    "import Tkinter, tkFileDialog, os"
   ]
  },
  {
   "cell_type": "code",
   "execution_count": 2,
   "metadata": {
    "collapsed": false
   },
   "outputs": [],
   "source": [
    "class App(Tkinter.Tk):\n",
    "    def __init__(self, parent):\n",
    "        self.counter = 0\n",
    "        self.parent  = parent\n",
    "        self.state   = { 'filepath': None, 'mTop': None, 'mBot': None }\n",
    "        Tkinter.Tk.__init__(self, parent)\n",
    "        self.initialize()\n",
    "        \n",
    "    def initialize(self):\n",
    "        self.grid()\n",
    "        \n",
    "        # Spinners\n",
    "        self.meterTop    = Tkinter.Spinbox(self, from_=1, to=16, \n",
    "                                      command=self.setMeterTop)\n",
    "        self.meterBottom = Tkinter.Spinbox(self, from_=1, to=16, \n",
    "                                      command=self.setMeterBottom)\n",
    "        \n",
    "        opt = {\n",
    "            'back': '#add8e6',\n",
    "            'sizeX': 5, # SizeX & SizeY are in\n",
    "        }\n",
    "        \n",
    "        # Labels\n",
    "        filepath      = Tkinter.Label(self, bg=opt['back'], width=opt['sizeX'] * 5)\n",
    "        meterLabelTop = Tkinter.Label(self, bg=opt['back'], width=opt['sizeX'] * 3) \n",
    "        meterLabelBot = Tkinter.Label(self, bg=opt['back'], width=opt['sizeX'] * 3)\n",
    "        \n",
    "        # Buttons\n",
    "        fileButton  = Tkinter.Button(self, text=\"Load File\", \n",
    "                                     command=self.getFileDialogue)\n",
    "        checkButton = Tkinter.Button(self, text=\"Test & Exit\",\n",
    "                                     command=self.debugger)\n",
    "        \n",
    "        self.grid_columnconfigure(0, weight=1)\n",
    "        self.resizable(False, True)\n",
    "        \n",
    "        # Grid placements\n",
    "        filepath.grid(column=1,         row=2)\n",
    "        fileButton.grid(column=0,       row=2)\n",
    "        meterLabelTop.grid(column=0,    row=3)\n",
    "        self.meterTop.grid(column=1,    row=3)\n",
    "        meterLabelBot.grid(column=0,    row=4)\n",
    "        self.meterBottom.grid(column=1, row=4)\n",
    "        checkButton.grid(column=0,      row=5)\n",
    "        \n",
    "        self.update()\n",
    "        self.geometry(self.geometry())\n",
    "            \n",
    "    def getFileDialogue(self):\n",
    "        filey = tkFileDialog.askopenfile(parent=self, \n",
    "                                         mode='r', title=\"Audio Sample\")\n",
    "        if filey != None:\n",
    "            data = filey.read()\n",
    "            self.state['filepath'] = filey.name\n",
    "            filey.close()\n",
    "    \n",
    "    def setMeterTop(self):\n",
    "        self.state['mTop'] = self.meterTop.get()\n",
    "    \n",
    "    def setMeterBottom(self):\n",
    "        self.state['mBot'] = self.meterBottom.get()\n",
    "    \n",
    "    def debugger(self):\n",
    "        self.setMeterTop()\n",
    "        self.setMeterBottom()\n",
    "        print self.state\n",
    "        #self.quit()"
   ]
  },
  {
   "cell_type": "code",
   "execution_count": 3,
   "metadata": {
    "collapsed": false
   },
   "outputs": [],
   "source": [
    "if __name__ == '__main__':\n",
    "    app = App(None)\n",
    "    app.title('LVQ Drum Classifier')\n",
    "    app.mainloop()"
   ]
  },
  {
   "cell_type": "code",
   "execution_count": null,
   "metadata": {
    "collapsed": true
   },
   "outputs": [],
   "source": []
  }
 ],
 "metadata": {
  "kernelspec": {
   "display_name": "Python 2",
   "language": "python",
   "name": "python2"
  },
  "language_info": {
   "codemirror_mode": {
    "name": "ipython",
    "version": 2
   },
   "file_extension": ".py",
   "mimetype": "text/x-python",
   "name": "python",
   "nbconvert_exporter": "python",
   "pygments_lexer": "ipython2",
   "version": "2.7.6"
  }
 },
 "nbformat": 4,
 "nbformat_minor": 0
}
